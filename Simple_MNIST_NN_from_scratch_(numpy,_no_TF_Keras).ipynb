{
  "metadata": {
    "kernelspec": {
      "language": "python",
      "display_name": "Python 3",
      "name": "python3"
    },
    "language_info": {
      "name": "python",
      "version": "3.7.6",
      "mimetype": "text/x-python",
      "codemirror_mode": {
        "name": "ipython",
        "version": 3
      },
      "pygments_lexer": "ipython3",
      "nbconvert_exporter": "python",
      "file_extension": ".py"
    },
    "kaggle": {
      "accelerator": "none",
      "dataSources": [
        {
          "sourceId": 3004,
          "databundleVersionId": 861823,
          "sourceType": "competition"
        }
      ],
      "dockerImageVersionId": 30035,
      "isInternetEnabled": false,
      "language": "python",
      "sourceType": "notebook",
      "isGpuEnabled": false
    },
    "colab": {
      "provenance": [],
      "include_colab_link": true
    }
  },
  "nbformat_minor": 0,
  "nbformat": 4,
  "cells": [
    {
      "cell_type": "markdown",
      "metadata": {
        "id": "view-in-github",
        "colab_type": "text"
      },
      "source": [
        "<a href=\"https://colab.research.google.com/github/loaferct/Neural_Network/blob/main/Simple_MNIST_NN_from_scratch_(numpy%2C_no_TF_Keras).ipynb\" target=\"_parent\"><img src=\"https://colab.research.google.com/assets/colab-badge.svg\" alt=\"Open In Colab\"/></a>"
      ]
    },
    {
      "source": [
        "\n",
        "# IMPORTANT: RUN THIS CELL IN ORDER TO IMPORT YOUR KAGGLE DATA SOURCES\n",
        "# TO THE CORRECT LOCATION (/kaggle/input) IN YOUR NOTEBOOK,\n",
        "# THEN FEEL FREE TO DELETE THIS CELL.\n",
        "# NOTE: THIS NOTEBOOK ENVIRONMENT DIFFERS FROM KAGGLE'S PYTHON\n",
        "# ENVIRONMENT SO THERE MAY BE MISSING LIBRARIES USED BY YOUR\n",
        "# NOTEBOOK.\n",
        "\n",
        "import os\n",
        "import sys\n",
        "from tempfile import NamedTemporaryFile\n",
        "from urllib.request import urlopen\n",
        "from urllib.parse import unquote, urlparse\n",
        "from urllib.error import HTTPError\n",
        "from zipfile import ZipFile\n",
        "import tarfile\n",
        "import shutil\n",
        "\n",
        "CHUNK_SIZE = 40960\n",
        "DATA_SOURCE_MAPPING = 'digit-recognizer:https%3A%2F%2Fstorage.googleapis.com%2Fkaggle-competitions-data%2Fkaggle-v2%2F3004%2F861823%2Fbundle%2Farchive.zip%3FX-Goog-Algorithm%3DGOOG4-RSA-SHA256%26X-Goog-Credential%3Dgcp-kaggle-com%2540kaggle-161607.iam.gserviceaccount.com%252F20240613%252Fauto%252Fstorage%252Fgoog4_request%26X-Goog-Date%3D20240613T072835Z%26X-Goog-Expires%3D259200%26X-Goog-SignedHeaders%3Dhost%26X-Goog-Signature%3D3848e6d8a11988158f2b0140bfb08ca96235e9b75d23e5b2d08d08d888fb72bf10961d7c5605ec2fa8ed26bb113d598a5846fc49ec6454e9a3ff1d9a18c253b89605b8eaf71510d43aa9c7fe80ffdecf8c7530b78aa33da52e8eb68618f858a01e9de7e1832846a888dcf1450bc1004c7793db72d117608669222540576b5f5a47245581039e129f177c5543428bf18ce561a417b9d539e2e304ce95927a7e7a182456ca619e369df1c3f0cf6863030c74f16d59a8bd170050cb9795207477b8e4a792ddd076dedc07d5b1dc20137b0d0ba295531b7cc183f4904c498de9a64d64565c288ea2994bb05777e0d5701e68b81c013beb6681876c1fecb94239cd6b'\n",
        "\n",
        "KAGGLE_INPUT_PATH='/kaggle/input'\n",
        "KAGGLE_WORKING_PATH='/kaggle/working'\n",
        "KAGGLE_SYMLINK='kaggle'\n",
        "\n",
        "!umount /kaggle/input/ 2> /dev/null\n",
        "shutil.rmtree('/kaggle/input', ignore_errors=True)\n",
        "os.makedirs(KAGGLE_INPUT_PATH, 0o777, exist_ok=True)\n",
        "os.makedirs(KAGGLE_WORKING_PATH, 0o777, exist_ok=True)\n",
        "\n",
        "try:\n",
        "  os.symlink(KAGGLE_INPUT_PATH, os.path.join(\"..\", 'input'), target_is_directory=True)\n",
        "except FileExistsError:\n",
        "  pass\n",
        "try:\n",
        "  os.symlink(KAGGLE_WORKING_PATH, os.path.join(\"..\", 'working'), target_is_directory=True)\n",
        "except FileExistsError:\n",
        "  pass\n",
        "\n",
        "for data_source_mapping in DATA_SOURCE_MAPPING.split(','):\n",
        "    directory, download_url_encoded = data_source_mapping.split(':')\n",
        "    download_url = unquote(download_url_encoded)\n",
        "    filename = urlparse(download_url).path\n",
        "    destination_path = os.path.join(KAGGLE_INPUT_PATH, directory)\n",
        "    try:\n",
        "        with urlopen(download_url) as fileres, NamedTemporaryFile() as tfile:\n",
        "            total_length = fileres.headers['content-length']\n",
        "            print(f'Downloading {directory}, {total_length} bytes compressed')\n",
        "            dl = 0\n",
        "            data = fileres.read(CHUNK_SIZE)\n",
        "            while len(data) > 0:\n",
        "                dl += len(data)\n",
        "                tfile.write(data)\n",
        "                done = int(50 * dl / int(total_length))\n",
        "                sys.stdout.write(f\"\\r[{'=' * done}{' ' * (50-done)}] {dl} bytes downloaded\")\n",
        "                sys.stdout.flush()\n",
        "                data = fileres.read(CHUNK_SIZE)\n",
        "            if filename.endswith('.zip'):\n",
        "              with ZipFile(tfile) as zfile:\n",
        "                zfile.extractall(destination_path)\n",
        "            else:\n",
        "              with tarfile.open(tfile.name) as tarfile:\n",
        "                tarfile.extractall(destination_path)\n",
        "            print(f'\\nDownloaded and uncompressed: {directory}')\n",
        "    except HTTPError as e:\n",
        "        print(f'Failed to load (likely expired) {download_url} to path {destination_path}')\n",
        "        continue\n",
        "    except OSError as e:\n",
        "        print(f'Failed to load {download_url} to path {destination_path}')\n",
        "        continue\n",
        "\n",
        "print('Data source import complete.')\n"
      ],
      "metadata": {
        "id": "FO6wQlEyf5dY",
        "outputId": "d2080cc3-1345-4397-9e8e-d1195f76e755",
        "colab": {
          "base_uri": "https://localhost:8080/"
        }
      },
      "cell_type": "code",
      "outputs": [
        {
          "output_type": "stream",
          "name": "stdout",
          "text": [
            "Downloading digit-recognizer, 16054568 bytes compressed\n",
            "[==================================================] 16054568 bytes downloaded\n",
            "Downloaded and uncompressed: digit-recognizer\n",
            "Data source import complete.\n"
          ]
        }
      ],
      "execution_count": null
    },
    {
      "cell_type": "code",
      "source": [
        "import numpy as np\n",
        "import pandas as pd\n",
        "from matplotlib import pyplot as plt\n",
        "\n",
        "data = pd.read_csv('/kaggle/input/digit-recognizer/train.csv')"
      ],
      "metadata": {
        "_uuid": "8f2839f25d086af736a60e9eeb907d3b93b6e0e5",
        "_cell_guid": "b1076dfc-b9ad-4769-8c92-a6c4dae69d19",
        "execution": {
          "iopub.status.busy": "2024-06-13T06:52:42.54092Z",
          "iopub.execute_input": "2024-06-13T06:52:42.541345Z",
          "iopub.status.idle": "2024-06-13T06:52:47.325113Z",
          "shell.execute_reply.started": "2024-06-13T06:52:42.541309Z",
          "shell.execute_reply": "2024-06-13T06:52:47.324075Z"
        },
        "trusted": true,
        "id": "xZMEZ17ff5df"
      },
      "execution_count": null,
      "outputs": []
    },
    {
      "cell_type": "code",
      "source": [
        "data.head()"
      ],
      "metadata": {
        "execution": {
          "iopub.status.busy": "2024-06-13T02:02:31.12963Z",
          "iopub.execute_input": "2024-06-13T02:02:31.130016Z",
          "iopub.status.idle": "2024-06-13T02:02:31.161706Z",
          "shell.execute_reply.started": "2024-06-13T02:02:31.129961Z",
          "shell.execute_reply": "2024-06-13T02:02:31.16055Z"
        },
        "trusted": true,
        "id": "1C1ubmfDf5dg",
        "outputId": "00eb1b5d-af56-416d-86ff-c1783a4c6017"
      },
      "execution_count": null,
      "outputs": [
        {
          "execution_count": 3,
          "output_type": "execute_result",
          "data": {
            "text/plain": "   label  pixel0  pixel1  pixel2  pixel3  pixel4  pixel5  pixel6  pixel7  \\\n0      1       0       0       0       0       0       0       0       0   \n1      0       0       0       0       0       0       0       0       0   \n2      1       0       0       0       0       0       0       0       0   \n3      4       0       0       0       0       0       0       0       0   \n4      0       0       0       0       0       0       0       0       0   \n\n   pixel8  ...  pixel774  pixel775  pixel776  pixel777  pixel778  pixel779  \\\n0       0  ...         0         0         0         0         0         0   \n1       0  ...         0         0         0         0         0         0   \n2       0  ...         0         0         0         0         0         0   \n3       0  ...         0         0         0         0         0         0   \n4       0  ...         0         0         0         0         0         0   \n\n   pixel780  pixel781  pixel782  pixel783  \n0         0         0         0         0  \n1         0         0         0         0  \n2         0         0         0         0  \n3         0         0         0         0  \n4         0         0         0         0  \n\n[5 rows x 785 columns]",
            "text/html": "<div>\n<style scoped>\n    .dataframe tbody tr th:only-of-type {\n        vertical-align: middle;\n    }\n\n    .dataframe tbody tr th {\n        vertical-align: top;\n    }\n\n    .dataframe thead th {\n        text-align: right;\n    }\n</style>\n<table border=\"1\" class=\"dataframe\">\n  <thead>\n    <tr style=\"text-align: right;\">\n      <th></th>\n      <th>label</th>\n      <th>pixel0</th>\n      <th>pixel1</th>\n      <th>pixel2</th>\n      <th>pixel3</th>\n      <th>pixel4</th>\n      <th>pixel5</th>\n      <th>pixel6</th>\n      <th>pixel7</th>\n      <th>pixel8</th>\n      <th>...</th>\n      <th>pixel774</th>\n      <th>pixel775</th>\n      <th>pixel776</th>\n      <th>pixel777</th>\n      <th>pixel778</th>\n      <th>pixel779</th>\n      <th>pixel780</th>\n      <th>pixel781</th>\n      <th>pixel782</th>\n      <th>pixel783</th>\n    </tr>\n  </thead>\n  <tbody>\n    <tr>\n      <th>0</th>\n      <td>1</td>\n      <td>0</td>\n      <td>0</td>\n      <td>0</td>\n      <td>0</td>\n      <td>0</td>\n      <td>0</td>\n      <td>0</td>\n      <td>0</td>\n      <td>0</td>\n      <td>...</td>\n      <td>0</td>\n      <td>0</td>\n      <td>0</td>\n      <td>0</td>\n      <td>0</td>\n      <td>0</td>\n      <td>0</td>\n      <td>0</td>\n      <td>0</td>\n      <td>0</td>\n    </tr>\n    <tr>\n      <th>1</th>\n      <td>0</td>\n      <td>0</td>\n      <td>0</td>\n      <td>0</td>\n      <td>0</td>\n      <td>0</td>\n      <td>0</td>\n      <td>0</td>\n      <td>0</td>\n      <td>0</td>\n      <td>...</td>\n      <td>0</td>\n      <td>0</td>\n      <td>0</td>\n      <td>0</td>\n      <td>0</td>\n      <td>0</td>\n      <td>0</td>\n      <td>0</td>\n      <td>0</td>\n      <td>0</td>\n    </tr>\n    <tr>\n      <th>2</th>\n      <td>1</td>\n      <td>0</td>\n      <td>0</td>\n      <td>0</td>\n      <td>0</td>\n      <td>0</td>\n      <td>0</td>\n      <td>0</td>\n      <td>0</td>\n      <td>0</td>\n      <td>...</td>\n      <td>0</td>\n      <td>0</td>\n      <td>0</td>\n      <td>0</td>\n      <td>0</td>\n      <td>0</td>\n      <td>0</td>\n      <td>0</td>\n      <td>0</td>\n      <td>0</td>\n    </tr>\n    <tr>\n      <th>3</th>\n      <td>4</td>\n      <td>0</td>\n      <td>0</td>\n      <td>0</td>\n      <td>0</td>\n      <td>0</td>\n      <td>0</td>\n      <td>0</td>\n      <td>0</td>\n      <td>0</td>\n      <td>...</td>\n      <td>0</td>\n      <td>0</td>\n      <td>0</td>\n      <td>0</td>\n      <td>0</td>\n      <td>0</td>\n      <td>0</td>\n      <td>0</td>\n      <td>0</td>\n      <td>0</td>\n    </tr>\n    <tr>\n      <th>4</th>\n      <td>0</td>\n      <td>0</td>\n      <td>0</td>\n      <td>0</td>\n      <td>0</td>\n      <td>0</td>\n      <td>0</td>\n      <td>0</td>\n      <td>0</td>\n      <td>0</td>\n      <td>...</td>\n      <td>0</td>\n      <td>0</td>\n      <td>0</td>\n      <td>0</td>\n      <td>0</td>\n      <td>0</td>\n      <td>0</td>\n      <td>0</td>\n      <td>0</td>\n      <td>0</td>\n    </tr>\n  </tbody>\n</table>\n<p>5 rows × 785 columns</p>\n</div>"
          },
          "metadata": {}
        }
      ]
    },
    {
      "cell_type": "code",
      "source": [
        "data = np.array(data)\n",
        "m, n = data.shape\n",
        "np.random.shuffle(data) # shuffle before splitting into dev and training sets\n",
        "\n",
        "data_dev = data[0:1000].T\n",
        "Y_dev = data_dev[0]\n",
        "X_dev = data_dev[1:n]\n",
        "X_dev = X_dev / 255.\n",
        "\n",
        "data_train = data[1000:m].T\n",
        "Y_train = data_train[0]\n",
        "X_train = data_train[1:n]\n",
        "X_train = X_train / 255.\n",
        "_,m_train = X_train.shape"
      ],
      "metadata": {
        "execution": {
          "iopub.status.busy": "2024-06-13T07:05:01.57944Z",
          "iopub.execute_input": "2024-06-13T07:05:01.579827Z",
          "iopub.status.idle": "2024-06-13T07:05:02.412318Z",
          "shell.execute_reply.started": "2024-06-13T07:05:01.579789Z",
          "shell.execute_reply": "2024-06-13T07:05:02.411128Z"
        },
        "trusted": true,
        "id": "vrVDUChSf5di"
      },
      "execution_count": null,
      "outputs": []
    },
    {
      "cell_type": "code",
      "source": [
        "def init_params():\n",
        "    W1 = np.random.rand(10, 784) - 0.5\n",
        "    b1 = np.random.rand(10, 1) - 0.5\n",
        "    W2 = np.random.rand(10, 10) - 0.5\n",
        "    b2 = np.random.rand(10, 1) - 0.5\n",
        "    return W1, b1, W2, b2\n",
        "\n",
        "def ReLU(Z):\n",
        "    return np.maximum(Z, 0)\n",
        "\n",
        "def softmax(Z):\n",
        "    A = np.exp(Z) / sum(np.exp(Z))\n",
        "    return A\n",
        "\n",
        "def forward_prop(W1, b1, W2, b2, X):\n",
        "    Z1 = W1.dot(X) + b1\n",
        "    A1 = ReLU(Z1)\n",
        "    Z2 = W2.dot(A1) + b2\n",
        "    A2 = softmax(Z2)\n",
        "    return Z1, A1, Z2, A2\n",
        "\n",
        "def ReLU_deriv(Z):\n",
        "    return Z > 0\n",
        "\n",
        "def one_hot(Y):\n",
        "    one_hot_Y = np.zeros((Y.size, Y.max() + 1))\n",
        "    one_hot_Y[np.arange(Y.size), Y] = 1\n",
        "    one_hot_Y = one_hot_Y.T\n",
        "    return one_hot_Y\n",
        "\n",
        "def backward_prop(Z1, A1, Z2, A2, W1, W2, X, Y):\n",
        "    one_hot_Y = one_hot(Y)\n",
        "    dZ2 = A2 - one_hot_Y\n",
        "    dW2 = 1 / m * dZ2.dot(A1.T)\n",
        "    db2 = 1 / m * np.sum(dZ2)\n",
        "    dZ1 = W2.T.dot(dZ2) * ReLU_deriv(Z1)\n",
        "    dW1 = 1 / m * dZ1.dot(X.T)\n",
        "    db1 = 1 / m * np.sum(dZ1)\n",
        "    return dW1, db1, dW2, db2\n",
        "\n",
        "def update_params(W1, b1, W2, b2, dW1, db1, dW2, db2, alpha):\n",
        "    W1 = W1 - alpha * dW1\n",
        "    b1 = b1 - alpha * db1\n",
        "    W2 = W2 - alpha * dW2\n",
        "    b2 = b2 - alpha * db2\n",
        "    return W1, b1, W2, b2\n"
      ],
      "metadata": {
        "execution": {
          "iopub.status.busy": "2024-06-13T07:24:55.259302Z",
          "iopub.execute_input": "2024-06-13T07:24:55.259796Z",
          "iopub.status.idle": "2024-06-13T07:24:55.282487Z",
          "shell.execute_reply.started": "2024-06-13T07:24:55.259754Z",
          "shell.execute_reply": "2024-06-13T07:24:55.281168Z"
        },
        "trusted": true,
        "id": "HAVY2mcyf5dj"
      },
      "execution_count": null,
      "outputs": []
    },
    {
      "cell_type": "markdown",
      "source": [
        "\n"
      ],
      "metadata": {
        "id": "EJLZGCiVf5dk"
      }
    },
    {
      "cell_type": "code",
      "source": [
        "def get_predictions(A2):\n",
        "    return np.argmax(A2, 0)\n",
        "\n",
        "def get_accuracy(predictions, Y):\n",
        "    print(predictions, Y)\n",
        "    return np.sum(predictions == Y) / Y.size\n",
        "\n",
        "def gradient_descent(X, Y, alpha, iterations):\n",
        "    W1, b1, W2, b2 = init_params()\n",
        "    for i in range(iterations):\n",
        "        Z1, A1, Z2, A2 = forward_prop(W1, b1, W2, b2, X)\n",
        "        dW1, db1, dW2, db2 = backward_prop(Z1, A1, Z2, A2, W1, W2, X, Y)\n",
        "        W1, b1, W2, b2 = update_params(W1, b1, W2, b2, dW1, db1, dW2, db2, alpha)\n",
        "        if i % 10 == 0:\n",
        "            print(\"Iteration: \", i)\n",
        "            predictions = get_predictions(A2)\n",
        "            print(get_accuracy(predictions, Y))\n",
        "    return W1, b1, W2, b2"
      ],
      "metadata": {
        "execution": {
          "iopub.status.busy": "2024-06-13T07:04:30.034015Z",
          "iopub.execute_input": "2024-06-13T07:04:30.034475Z",
          "iopub.status.idle": "2024-06-13T07:04:30.048303Z",
          "shell.execute_reply.started": "2024-06-13T07:04:30.034413Z",
          "shell.execute_reply": "2024-06-13T07:04:30.046755Z"
        },
        "trusted": true,
        "id": "se5AMHDXf5dm"
      },
      "execution_count": null,
      "outputs": []
    },
    {
      "cell_type": "markdown",
      "source": [
        "#TRAINING THE DATA"
      ],
      "metadata": {
        "id": "TfK8N_kegIvj"
      }
    },
    {
      "cell_type": "code",
      "source": [
        "W1, b1, W2, b2 = gradient_descent(X_train, Y_train, 0.10, 500)"
      ],
      "metadata": {
        "execution": {
          "iopub.status.busy": "2024-06-13T07:24:58.678134Z",
          "iopub.execute_input": "2024-06-13T07:24:58.67865Z",
          "iopub.status.idle": "2024-06-13T07:25:45.129524Z",
          "shell.execute_reply.started": "2024-06-13T07:24:58.678607Z",
          "shell.execute_reply": "2024-06-13T07:25:45.128297Z"
        },
        "trusted": true,
        "id": "Vk2U7uKjf5dp",
        "outputId": "4f881510-7068-4908-a038-08763aa3c0eb",
        "colab": {
          "base_uri": "https://localhost:8080/"
        }
      },
      "execution_count": null,
      "outputs": [
        {
          "output_type": "stream",
          "name": "stdout",
          "text": [
            "Iteration:  0\n",
            "[4 3 5 ... 7 4 6] [8 1 3 ... 9 0 5]\n",
            "0.11002439024390244\n",
            "Iteration:  10\n",
            "[4 3 5 ... 6 4 3] [8 1 3 ... 9 0 5]\n",
            "0.17348780487804877\n",
            "Iteration:  20\n",
            "[4 3 8 ... 6 0 3] [8 1 3 ... 9 0 5]\n",
            "0.20758536585365853\n",
            "Iteration:  30\n",
            "[4 3 8 ... 6 0 3] [8 1 3 ... 9 0 5]\n",
            "0.22946341463414635\n",
            "Iteration:  40\n",
            "[4 3 8 ... 6 0 9] [8 1 3 ... 9 0 5]\n",
            "0.2556341463414634\n",
            "Iteration:  50\n",
            "[4 1 8 ... 4 0 9] [8 1 3 ... 9 0 5]\n",
            "0.3356585365853659\n",
            "Iteration:  60\n",
            "[4 1 8 ... 2 0 9] [8 1 3 ... 9 0 5]\n",
            "0.40107317073170734\n",
            "Iteration:  70\n",
            "[4 1 8 ... 4 0 9] [8 1 3 ... 9 0 5]\n",
            "0.4444390243902439\n",
            "Iteration:  80\n",
            "[4 1 8 ... 4 0 9] [8 1 3 ... 9 0 5]\n",
            "0.4793170731707317\n",
            "Iteration:  90\n",
            "[2 1 8 ... 4 0 9] [8 1 3 ... 9 0 5]\n",
            "0.5111951219512195\n",
            "Iteration:  100\n",
            "[2 1 3 ... 4 0 9] [8 1 3 ... 9 0 5]\n",
            "0.5416585365853659\n",
            "Iteration:  110\n",
            "[2 1 3 ... 4 0 9] [8 1 3 ... 9 0 5]\n",
            "0.5693414634146341\n",
            "Iteration:  120\n",
            "[2 1 3 ... 4 0 9] [8 1 3 ... 9 0 5]\n",
            "0.5940243902439024\n",
            "Iteration:  130\n",
            "[2 1 3 ... 4 0 9] [8 1 3 ... 9 0 5]\n",
            "0.6128292682926829\n",
            "Iteration:  140\n",
            "[2 1 3 ... 4 0 9] [8 1 3 ... 9 0 5]\n",
            "0.6295853658536585\n",
            "Iteration:  150\n",
            "[2 1 3 ... 4 0 9] [8 1 3 ... 9 0 5]\n",
            "0.6437317073170732\n",
            "Iteration:  160\n",
            "[2 1 3 ... 4 0 9] [8 1 3 ... 9 0 5]\n",
            "0.6571951219512195\n",
            "Iteration:  170\n",
            "[2 1 3 ... 4 0 9] [8 1 3 ... 9 0 5]\n",
            "0.6685121951219513\n",
            "Iteration:  180\n",
            "[2 1 3 ... 4 0 9] [8 1 3 ... 9 0 5]\n",
            "0.6789756097560976\n",
            "Iteration:  190\n",
            "[2 1 3 ... 4 0 9] [8 1 3 ... 9 0 5]\n",
            "0.6896097560975609\n",
            "Iteration:  200\n",
            "[2 1 3 ... 4 0 9] [8 1 3 ... 9 0 5]\n",
            "0.6978536585365853\n",
            "Iteration:  210\n",
            "[2 1 3 ... 4 0 9] [8 1 3 ... 9 0 5]\n",
            "0.7067073170731707\n",
            "Iteration:  220\n",
            "[2 1 3 ... 4 0 9] [8 1 3 ... 9 0 5]\n",
            "0.7133170731707317\n",
            "Iteration:  230\n",
            "[2 1 3 ... 4 0 5] [8 1 3 ... 9 0 5]\n",
            "0.7208780487804878\n",
            "Iteration:  240\n",
            "[2 1 3 ... 4 0 5] [8 1 3 ... 9 0 5]\n",
            "0.7282926829268292\n",
            "Iteration:  250\n",
            "[2 1 3 ... 4 0 5] [8 1 3 ... 9 0 5]\n",
            "0.7340487804878049\n",
            "Iteration:  260\n",
            "[2 1 3 ... 4 0 5] [8 1 3 ... 9 0 5]\n",
            "0.7406829268292683\n",
            "Iteration:  270\n",
            "[2 1 3 ... 4 0 5] [8 1 3 ... 9 0 5]\n",
            "0.7469268292682927\n",
            "Iteration:  280\n",
            "[2 1 3 ... 4 0 5] [8 1 3 ... 9 0 5]\n",
            "0.7520731707317073\n",
            "Iteration:  290\n",
            "[2 1 3 ... 4 0 5] [8 1 3 ... 9 0 5]\n",
            "0.7570975609756098\n",
            "Iteration:  300\n",
            "[2 1 3 ... 4 0 5] [8 1 3 ... 9 0 5]\n",
            "0.7621219512195122\n",
            "Iteration:  310\n",
            "[2 1 3 ... 4 0 5] [8 1 3 ... 9 0 5]\n",
            "0.7680731707317073\n",
            "Iteration:  320\n",
            "[8 1 3 ... 4 0 5] [8 1 3 ... 9 0 5]\n",
            "0.7731219512195122\n",
            "Iteration:  330\n",
            "[8 1 3 ... 4 0 5] [8 1 3 ... 9 0 5]\n",
            "0.777390243902439\n",
            "Iteration:  340\n",
            "[8 1 3 ... 4 0 5] [8 1 3 ... 9 0 5]\n",
            "0.7810243902439025\n",
            "Iteration:  350\n",
            "[8 1 3 ... 4 0 5] [8 1 3 ... 9 0 5]\n",
            "0.7854634146341464\n",
            "Iteration:  360\n",
            "[8 1 3 ... 4 0 5] [8 1 3 ... 9 0 5]\n",
            "0.7887804878048781\n",
            "Iteration:  370\n",
            "[8 1 3 ... 4 0 5] [8 1 3 ... 9 0 5]\n",
            "0.7924634146341464\n",
            "Iteration:  380\n",
            "[8 1 3 ... 4 0 5] [8 1 3 ... 9 0 5]\n",
            "0.7958048780487805\n",
            "Iteration:  390\n",
            "[8 1 3 ... 4 0 5] [8 1 3 ... 9 0 5]\n",
            "0.7995365853658537\n",
            "Iteration:  400\n",
            "[8 1 3 ... 4 0 5] [8 1 3 ... 9 0 5]\n",
            "0.8023414634146342\n",
            "Iteration:  410\n",
            "[8 1 3 ... 4 0 5] [8 1 3 ... 9 0 5]\n",
            "0.8054634146341464\n",
            "Iteration:  420\n",
            "[8 1 3 ... 4 0 5] [8 1 3 ... 9 0 5]\n",
            "0.8087804878048781\n",
            "Iteration:  430\n",
            "[8 1 3 ... 4 0 5] [8 1 3 ... 9 0 5]\n",
            "0.8114878048780488\n",
            "Iteration:  440\n",
            "[8 1 3 ... 4 0 5] [8 1 3 ... 9 0 5]\n",
            "0.8135121951219512\n",
            "Iteration:  450\n",
            "[8 1 3 ... 4 0 5] [8 1 3 ... 9 0 5]\n",
            "0.8155121951219512\n",
            "Iteration:  460\n",
            "[8 1 3 ... 4 0 5] [8 1 3 ... 9 0 5]\n",
            "0.8177560975609756\n",
            "Iteration:  470\n",
            "[8 1 3 ... 4 0 5] [8 1 3 ... 9 0 5]\n",
            "0.8198536585365853\n",
            "Iteration:  480\n",
            "[8 1 3 ... 4 0 5] [8 1 3 ... 9 0 5]\n",
            "0.8218292682926829\n",
            "Iteration:  490\n",
            "[8 1 3 ... 4 0 5] [8 1 3 ... 9 0 5]\n",
            "0.8242439024390243\n"
          ]
        }
      ]
    },
    {
      "cell_type": "markdown",
      "source": [
        "#84% accuracy tho lesgooo"
      ],
      "metadata": {
        "id": "HRhGM950f5dq"
      }
    },
    {
      "cell_type": "code",
      "source": [
        "def make_predictions(X, W1, b1, W2, b2):\n",
        "    _, _, _, A2 = forward_prop(W1, b1, W2, b2, X)\n",
        "    predictions = get_predictions(A2)\n",
        "    return predictions\n",
        "\n",
        "def test_prediction(index, W1, b1, W2, b2):\n",
        "    current_image = X_train[:, index, None]\n",
        "    prediction = make_predictions(X_train[:, index, None], W1, b1, W2, b2)\n",
        "    label = Y_train[index]\n",
        "    print(\"Prediction: \", prediction)\n",
        "    print(\"Label: \", label)\n",
        "\n",
        "    current_image = current_image.reshape((28, 28)) * 255\n",
        "    plt.gray()\n",
        "    plt.imshow(current_image, interpolation='nearest')\n",
        "    plt.show()"
      ],
      "metadata": {
        "execution": {
          "iopub.status.busy": "2024-06-13T07:08:52.841917Z",
          "iopub.execute_input": "2024-06-13T07:08:52.842418Z",
          "iopub.status.idle": "2024-06-13T07:08:52.853784Z",
          "shell.execute_reply.started": "2024-06-13T07:08:52.842372Z",
          "shell.execute_reply": "2024-06-13T07:08:52.852625Z"
        },
        "trusted": true,
        "id": "hEsK_Ksaf5dr"
      },
      "execution_count": null,
      "outputs": []
    },
    {
      "cell_type": "code",
      "source": [
        "test_prediction(10, W1, b1, W2, b2)\n",
        "test_prediction(245, W1, b1, W2, b2)\n",
        "test_prediction(110, W1, b1, W2, b2)\n",
        "test_prediction(11, W1, b1, W2, b2)"
      ],
      "metadata": {
        "execution": {
          "iopub.status.busy": "2024-06-13T07:11:29.203492Z",
          "iopub.execute_input": "2024-06-13T07:11:29.203962Z",
          "iopub.status.idle": "2024-06-13T07:11:29.884017Z",
          "shell.execute_reply.started": "2024-06-13T07:11:29.20392Z",
          "shell.execute_reply": "2024-06-13T07:11:29.882962Z"
        },
        "trusted": true,
        "id": "OyF2M9XDf5ds",
        "outputId": "2798d27e-b197-4186-eda9-7a494dacab0b"
      },
      "execution_count": null,
      "outputs": [
        {
          "name": "stdout",
          "text": "Prediction:  [5]\nLabel:  5\n",
          "output_type": "stream"
        },
        {
          "output_type": "display_data",
          "data": {
            "text/plain": "<Figure size 432x288 with 1 Axes>",
            "image/png": "[encoded data removed]"
          },
          "metadata": {
            "needs_background": "light"
          }
        },
        {
          "name": "stdout",
          "text": "Prediction:  [3]\nLabel:  3\n",
          "output_type": "stream"
        },
        {
          "output_type": "display_data",
          "data": {
            "text/plain": "<Figure size 432x288 with 1 Axes>",
            "image/png": "[encoded data removed]"
          },
          "metadata": {
            "needs_background": "light"
          }
        },
        {
          "name": "stdout",
          "text": "Prediction:  [2]\nLabel:  2\n",
          "output_type": "stream"
        },
        {
          "output_type": "display_data",
          "data": {
            "text/plain": "<Figure size 432x288 with 1 Axes>",
            "image/png": "[encoded data removed]"
          },
          "metadata": {
            "needs_background": "light"
          }
        },
        {
          "name": "stdout",
          "text": "Prediction:  [9]\nLabel:  8\n",
          "output_type": "stream"
        },
        {
          "output_type": "display_data",
          "data": {
            "text/plain": "<Figure size 432x288 with 1 Axes>",
            "image/png": "[encoded data removed]"
          },
          "metadata": {
            "needs_background": "light"
          }
        }
      ]
    },
    {
      "cell_type": "code",
      "source": [],
      "metadata": {
        "id": "UfL2O_eTf5ds"
      },
      "execution_count": null,
      "outputs": []
    }
  ]
}